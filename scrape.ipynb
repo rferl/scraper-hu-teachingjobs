{
 "cells": [
  {
   "cell_type": "markdown",
   "id": "7d93e842-634a-443d-8258-21d525458ef7",
   "metadata": {},
   "source": [
    "# Scraping teaching jobs in Hungary\n",
    "Scraping a Hungarian government website that advertises job vacacies to count the number of teacher vacancies per day. First we need to import the libraries we need."
   ]
  },
  {
   "cell_type": "code",
   "execution_count": 1,
   "id": "f848bee7-0a67-49e1-8b0d-fa652e717514",
   "metadata": {},
   "outputs": [],
   "source": [
    "import requests\n",
    "import bs4"
   ]
  },
  {
   "cell_type": "markdown",
   "id": "8391fcc4-a147-4ab9-a141-26f24720ba04",
   "metadata": {},
   "source": [
    "Now, let's specify the URL we want to scrape, then use the `requests` library to send a `POST` request to the form endpoint on the page. Once we receive a response, we'll parse it for the data we need."
   ]
  },
  {
   "cell_type": "code",
   "execution_count": 2,
   "id": "059c98a5-d194-4bfd-8c48-ee58c83a81ff",
   "metadata": {},
   "outputs": [],
   "source": [
    "url = 'https://kozigallas.gov.hu/publicsearch.aspx'"
   ]
  },
  {
   "cell_type": "markdown",
   "id": "65d35c85",
   "metadata": {},
   "source": [
    "Okay, time to make the `POST` request. This is basically what happens when you submit the search form on that website. It packages up a bunch of data, including your search query, and receives a response, which we'll later parse. \n",
    "\n",
    "There's a bunch of tokens and crap sent with the request."
   ]
  },
  {
   "cell_type": "code",
   "execution_count": 8,
   "id": "1dee9783-a2fe-4c98-882e-79b818fcc3a1",
   "metadata": {},
   "outputs": [],
   "source": [
    "def send_request():\n",
    "    try:\n",
    "        response = requests.post(\n",
    "            url=url,\n",
    "            params={\n",
    "                \"p\": \"1\",\n",
    "            },\n",
    "            headers={\n",
    "                \"Content-Type\": \"application/x-www-form-urlencoded; charset=utf-8\",\n",
    "                \"Cookie\": \"ASP.NET_SessionId=nialgtjlnsftsb551ou1dj55\",\n",
    "            },\n",
    "            data={\n",
    "                \"__EVENTTARGET\": \"\",\n",
    "                \"__EVENTARGUMENT\": \"\",\n",
    "                \"__VSTATE\": \"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\",\n",
    "                \"__VIEWSTATE\": \"\",\n",
    "                \"__EVENTVALIDATION\": \"/wEWBQL+raDpAgK3hdWgDwKYhJHtDwKSvba2CQKbgZmZA575eIrMtkZINDZao4TPeGOLl/xf\",\n",
    "                \"userName\": \"Felhasználói+név\",\n",
    "                \"password\": \"Jelszó\",\n",
    "                \"ctl00$ContentPlaceHolder1$JobSearchForm1$txtKeyword\": \"tanár\",\n",
    "                \"ctl00$ContentPlaceHolder1$JobSearchForm1$btnSearch\": \"Keresés\",\n",
    "            },\n",
    "        )\n",
    "        return response.content\n",
    "    except requests.exceptions.RequestException:\n",
    "        print('HTTP Request failed')"
   ]
  },
  {
   "cell_type": "markdown",
   "id": "776f6e54-585d-41fb-9c2c-aace4cc3406d",
   "metadata": {},
   "source": [
    "The response is an HTML page which we'll have to parse. So we'll use BeautifulSoup to take the response string and parse the HTML:"
   ]
  },
  {
   "cell_type": "code",
   "execution_count": 10,
   "id": "fabffe8f-6943-4655-b230-4a398e726430",
   "metadata": {},
   "outputs": [],
   "source": [
    "soup = bs4.BeautifulSoup(send_request(), 'html.parser')"
   ]
  },
  {
   "cell_type": "markdown",
   "id": "34bfbb11-6737-48eb-9e41-139bbec4bcb4",
   "metadata": {},
   "source": [
    "The number of results for a search for \"teacher\" is in a `span` element with an `id` of `#ctl00_ContentPlaceHolder1_JobSearchForm1_lblCount`. Let's use BS4 to find that and print the value."
   ]
  },
  {
   "cell_type": "code",
   "execution_count": 11,
   "id": "b88705f2-094a-470f-bf04-9b211dabcea7",
   "metadata": {},
   "outputs": [
    {
     "name": "stdout",
     "output_type": "stream",
     "text": [
      "2577\n"
     ]
    }
   ],
   "source": [
    "count = soup.find(id='ctl00_ContentPlaceHolder1_JobSearchForm1_lblCount').text\n",
    "print(count)"
   ]
  },
  {
   "cell_type": "markdown",
   "id": "abd9c446-450e-43af-bf05-dbddc0bcdb98",
   "metadata": {},
   "source": [
    "Let's also add the date and time of retrieval. We'll put the date along with the count into an array so we can easily add it as a row to a CSV.\n",
    "\n",
    "**NOTE** We are using timezone to set UTC as the time on everything, because that is what Github Actions uses."
   ]
  },
  {
   "cell_type": "code",
   "execution_count": 12,
   "id": "62c41cd8-57e2-441d-bbfd-fc0603f572ed",
   "metadata": {},
   "outputs": [
    {
     "name": "stdout",
     "output_type": "stream",
     "text": [
      "['2577', '06/27/2022, 11:53']\n"
     ]
    }
   ],
   "source": [
    "from datetime import datetime, timezone\n",
    "\n",
    "current_time = datetime.now(timezone.utc).strftime(\"%m/%d/%Y, %H:%M\")\n",
    "\n",
    "row = [count.strip(), current_time]\n",
    "print(row)"
   ]
  },
  {
   "cell_type": "markdown",
   "id": "9f936d02-8b5e-485d-b8b6-cf219e90d27d",
   "metadata": {},
   "source": [
    "Time to write the result to a CSV, and for that we'll need the Python CSV library."
   ]
  },
  {
   "cell_type": "code",
   "execution_count": 25,
   "id": "cd65b586-52d3-4e0a-82f0-006fab4b0adc",
   "metadata": {},
   "outputs": [],
   "source": [
    "import os\n",
    "import csv"
   ]
  },
  {
   "cell_type": "markdown",
   "id": "8ae181c5-60ce-45fc-90ff-ef957ea30829",
   "metadata": {},
   "source": [
    "And we'll also prepare the headers for the CSV file, and the filename."
   ]
  },
  {
   "cell_type": "code",
   "execution_count": 13,
   "id": "96735eba-1fc0-4db7-bc8c-f6caac87f933",
   "metadata": {},
   "outputs": [],
   "source": [
    "HEADERS = ['count','datetime']\n",
    "FILENAME = 'teacher_vacancies_count.csv'"
   ]
  },
  {
   "cell_type": "markdown",
   "id": "80bbf6ef-a766-40a5-840e-49e70921a2e2",
   "metadata": {},
   "source": [
    "Let's check if the file already exists. If it does, we'll just add a row, if not, then we create the file from scratch and add the headers."
   ]
  },
  {
   "cell_type": "code",
   "execution_count": 40,
   "id": "ac870edb-50ab-4dec-8cae-5d4aab981ebf",
   "metadata": {},
   "outputs": [],
   "source": [
    "if not os.path.isfile(FILENAME):\n",
    "   with open(FILENAME, 'w', newline='') as outfile:\n",
    "    writer = csv.writer(outfile)\n",
    "    writer.writerow(HEADERS)\n",
    "    writer.writerow(row)\n",
    "else: # else it exists so append without writing the header\n",
    "   with open(FILENAME, 'a', newline='') as outfile:\n",
    "    writer = csv.writer(outfile)\n",
    "    writer.writerow(row)"
   ]
  },
  {
   "cell_type": "markdown",
   "id": "8898ac57-7dd1-4493-b50e-e16c753eb8c2",
   "metadata": {},
   "source": [
    "Done! 👏"
   ]
  }
 ],
 "metadata": {
  "kernelspec": {
   "display_name": "Python 3.9.13 ('scraper-hu-teachingjobs-TCz_RiqA')",
   "language": "python",
   "name": "python3"
  },
  "language_info": {
   "codemirror_mode": {
    "name": "ipython",
    "version": 3
   },
   "file_extension": ".py",
   "mimetype": "text/x-python",
   "name": "python",
   "nbconvert_exporter": "python",
   "pygments_lexer": "ipython3",
   "version": "3.9.13"
  },
  "vscode": {
   "interpreter": {
    "hash": "b16f80df98f4a7600ab472897e529f9d88fcb7d3d704000fc1b572f90d50a6c2"
   }
  }
 },
 "nbformat": 4,
 "nbformat_minor": 5
}
